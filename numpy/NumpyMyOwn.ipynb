{
 "cells": [
  {
   "cell_type": "code",
   "execution_count": 1,
   "metadata": {},
   "outputs": [
    {
     "name": "stdout",
     "output_type": "stream",
     "text": [
      "hello \n"
     ]
    }
   ],
   "source": [
    "print(\"hello \")"
   ]
  },
  {
   "cell_type": "code",
   "execution_count": 7,
   "metadata": {},
   "outputs": [
    {
     "name": "stdout",
     "output_type": "stream",
     "text": [
      "Enter a number9\n",
      "+ve man\n"
     ]
    }
   ],
   "source": [
    "nu=int(input(\"Enter a number\"))\n",
    "if(nu ==0):\n",
    "    print(\"Zero an\")\n",
    "elif(nu >0):\n",
    "    print(\"+ve man\")\n",
    "else:\n",
    "    print(\"-ve woman\")"
   ]
  },
  {
   "cell_type": "code",
   "execution_count": 3,
   "metadata": {},
   "outputs": [
    {
     "name": "stdout",
     "output_type": "stream",
     "text": [
      "Help on package django:\n",
      "\n",
      "NAME\n",
      "    django\n",
      "\n",
      "PACKAGE CONTENTS\n",
      "    __main__\n",
      "    apps (package)\n",
      "    conf (package)\n",
      "    contrib (package)\n",
      "    core (package)\n",
      "    db (package)\n",
      "    dispatch (package)\n",
      "    forms (package)\n",
      "    http (package)\n",
      "    middleware (package)\n",
      "    shortcuts\n",
      "    template (package)\n",
      "    templatetags (package)\n",
      "    test (package)\n",
      "    urls (package)\n",
      "    utils (package)\n",
      "    views (package)\n",
      "\n",
      "FUNCTIONS\n",
      "    setup(set_prefix=True)\n",
      "        Configure the settings (this happens as a side effect of accessing the\n",
      "        first setting), configure logging and populate the app registry.\n",
      "        Set the thread-local urlresolvers script prefix if `set_prefix` is True.\n",
      "\n",
      "DATA\n",
      "    VERSION = (2, 0, 4, 'final', 0)\n",
      "\n",
      "VERSION\n",
      "    2.0.4\n",
      "\n",
      "FILE\n",
      "    c:\\users\\dawud\\appdata\\local\\programs\\python\\python36-32\\lib\\site-packages\\django\\__init__.py\n",
      "\n",
      "\n"
     ]
    }
   ],
   "source": [
    "import django\n",
    "help(django)\n",
    "\n"
   ]
  },
  {
   "cell_type": "code",
   "execution_count": 4,
   "metadata": {},
   "outputs": [
    {
     "name": "stdout",
     "output_type": "stream",
     "text": [
      "2.0.4\n"
     ]
    }
   ],
   "source": [
    "import django\n",
    "print(django.get_version())"
   ]
  },
  {
   "cell_type": "code",
   "execution_count": 1,
   "metadata": {
    "collapsed": true
   },
   "outputs": [],
   "source": [
    "import numpy as np"
   ]
  },
  {
   "cell_type": "code",
   "execution_count": 3,
   "metadata": {},
   "outputs": [
    {
     "data": {
      "text/plain": [
       "array([[ 1.,  0.,  0.,  0.],\n",
       "       [ 0.,  1.,  0.,  0.],\n",
       "       [ 0.,  0.,  1.,  0.],\n",
       "       [ 0.,  0.,  0.,  1.]])"
      ]
     },
     "execution_count": 3,
     "metadata": {},
     "output_type": "execute_result"
    }
   ],
   "source": [
    "np.eye(4)"
   ]
  },
  {
   "cell_type": "code",
   "execution_count": 6,
   "metadata": {},
   "outputs": [
    {
     "data": {
      "text/plain": [
       "array([[ 0,  1,  2,  3,  4,  5,  6,  7,  8,  9],\n",
       "       [10, 11, 12, 13, 14, 15, 16, 17, 18, 19],\n",
       "       [20, 21, 22, 23, 24, 25, 26, 27, 28, 29],\n",
       "       [30, 31, 32, 33, 34, 35, 36, 37, 38, 39],\n",
       "       [40, 41, 42, 43, 44, 45, 46, 47, 48, 49],\n",
       "       [50, 51, 52, 53, 54, 55, 56, 57, 58, 59],\n",
       "       [60, 61, 62, 63, 64, 65, 66, 67, 68, 69],\n",
       "       [70, 71, 72, 73, 74, 75, 76, 77, 78, 79],\n",
       "       [80, 81, 82, 83, 84, 85, 86, 87, 88, 89],\n",
       "       [90, 91, 92, 93, 94, 95, 96, 97, 98, 99]])"
      ]
     },
     "execution_count": 6,
     "metadata": {},
     "output_type": "execute_result"
    }
   ],
   "source": [
    "np.arange(0,100).reshape(10,10)"
   ]
  },
  {
   "cell_type": "code",
   "execution_count": 84,
   "metadata": {},
   "outputs": [
    {
     "data": {
      "text/plain": [
       "array([[ 10,  12,  14,  16,  18,  20,  22,  24,  26,  28],\n",
       "       [ 30,  32,  34,  36,  38,  40,  42,  44,  46,  48],\n",
       "       [ 50,  52,  54,  56,  58,  60,  62,  64,  66,  68],\n",
       "       [ 70,  72,  74,  76,  78,  80,  82,  84,  86,  88],\n",
       "       [ 90,  92,  94,  96,  98, 100, 102, 104, 106, 108],\n",
       "       [110, 112, 114, 116, 118, 120, 122, 124, 126, 128],\n",
       "       [130, 132, 134, 136, 138, 140, 142, 144, 146, 148],\n",
       "       [150, 152, 154, 156, 158, 160, 162, 164, 166, 168],\n",
       "       [170, 172, 174, 176, 178, 180, 182, 184, 186, 188],\n",
       "       [190, 192, 194, 196, 198, 200, 202, 204, 206, 208]])"
      ]
     },
     "execution_count": 84,
     "metadata": {},
     "output_type": "execute_result"
    }
   ],
   "source": [
    "np.arange(0,100).reshape(10,10) + np.arange(10,110).reshape(10,10) "
   ]
  },
  {
   "cell_type": "code",
   "execution_count": 85,
   "metadata": {},
   "outputs": [
    {
     "data": {
      "text/plain": [
       "array([ 10,  12,  14,  16,  18,  20,  22,  24,  26,  28,  30,  32,  34,\n",
       "        36,  38,  40,  42,  44,  46,  48,  50,  52,  54,  56,  58,  60,\n",
       "        62,  64,  66,  68,  70,  72,  74,  76,  78,  80,  82,  84,  86,\n",
       "        88,  90,  92,  94,  96,  98, 100])"
      ]
     },
     "execution_count": 85,
     "metadata": {},
     "output_type": "execute_result"
    }
   ],
   "source": [
    "np.arange(10,101,2)"
   ]
  },
  {
   "cell_type": "code",
   "execution_count": 116,
   "metadata": {},
   "outputs": [
    {
     "data": {
      "text/plain": [
       "array([53, 61, 14, 37, 99, 77, 60, 46, 51, 49])"
      ]
     },
     "execution_count": 116,
     "metadata": {},
     "output_type": "execute_result"
    }
   ],
   "source": [
    "np.random.randint(1,100, 10)"
   ]
  },
  {
   "cell_type": "code",
   "execution_count": null,
   "metadata": {
    "collapsed": true
   },
   "outputs": [],
   "source": []
  },
  {
   "cell_type": "code",
   "execution_count": 89,
   "metadata": {},
   "outputs": [
    {
     "data": {
      "text/plain": [
       "array([[-0.69269763, -0.8604376 ,  0.48558611,  0.38259961, -1.016418  ],\n",
       "       [ 0.4043485 , -0.69009898,  0.3440877 , -0.72267268, -1.34273181],\n",
       "       [ 0.64829614,  0.10078758,  0.06362458, -0.27755682, -0.07073153],\n",
       "       [ 0.20270229, -1.19912548,  0.23970297, -1.95414682,  1.02808816]])"
      ]
     },
     "execution_count": 89,
     "metadata": {},
     "output_type": "execute_result"
    }
   ],
   "source": [
    "np.random.randn(20).reshape(4,5)"
   ]
  },
  {
   "cell_type": "code",
   "execution_count": 106,
   "metadata": {},
   "outputs": [
    {
     "data": {
      "text/plain": [
       "array([[ 0.22959837,  0.7882497 ,  0.75657442,  0.91736748,  0.91391672,\n",
       "         0.53336876,  0.04165899,  0.50841406,  0.01891817,  0.35388504],\n",
       "       [ 0.30422334,  0.91198389,  0.96242666,  0.22839733,  0.45665269,\n",
       "         0.89836422,  0.57899925,  0.33850771,  0.91859178,  0.65763351],\n",
       "       [ 0.48319019,  0.06846061,  0.94724785,  0.92918205,  0.95420205,\n",
       "         0.251805  ,  0.14095027,  0.10139608,  0.7856218 ,  0.56882312],\n",
       "       [ 0.06589246,  0.35010959,  0.20091104,  0.43671059,  0.45723046,\n",
       "         0.87672515,  0.62656929,  0.17244953,  0.4376965 ,  0.32737141],\n",
       "       [ 0.12266479,  0.26404931,  0.02272703,  0.10596476,  0.46319783,\n",
       "         0.90942066,  0.74629199,  0.12116272,  0.96990654,  0.29944246],\n",
       "       [ 0.30797215,  0.7342672 ,  0.42640813,  0.39358803,  0.96802577,\n",
       "         0.33550695,  0.62920389,  0.07637818,  0.269503  ,  0.62422777],\n",
       "       [ 0.60601509,  0.13910277,  0.71872421,  0.8769468 ,  0.63317773,\n",
       "         0.84764534,  0.58848548,  0.08357088,  0.87898311,  0.40172549],\n",
       "       [ 0.89905542,  0.16751595,  0.75434523,  0.25240617,  0.82949899,\n",
       "         0.25644549,  0.85313576,  0.93645085,  0.01994492,  0.7327096 ],\n",
       "       [ 0.08746322,  0.34646493,  0.25259424,  0.79551887,  0.05480621,\n",
       "         0.75871818,  0.92206814,  0.67070444,  0.02061782,  0.12277052],\n",
       "       [ 0.15739988,  0.12374363,  0.19544689,  0.47268027,  0.77266806,\n",
       "         0.53590364,  0.32971833,  0.39167977,  0.41136046,  0.78268845]])"
      ]
     },
     "execution_count": 106,
     "metadata": {},
     "output_type": "execute_result"
    }
   ],
   "source": [
    "np.random.rand(100).reshape(10,10)"
   ]
  },
  {
   "cell_type": "code",
   "execution_count": null,
   "metadata": {
    "collapsed": true
   },
   "outputs": [],
   "source": []
  },
  {
   "cell_type": "code",
   "execution_count": 102,
   "metadata": {},
   "outputs": [
    {
     "data": {
      "text/plain": [
       "array([[ 0.01,  0.02,  0.03,  0.04,  0.05,  0.06,  0.07,  0.08,  0.09,  0.1 ],\n",
       "       [ 0.11,  0.12,  0.13,  0.14,  0.15,  0.16,  0.17,  0.18,  0.19,  0.2 ],\n",
       "       [ 0.21,  0.22,  0.23,  0.24,  0.25,  0.26,  0.27,  0.28,  0.29,  0.3 ],\n",
       "       [ 0.31,  0.32,  0.33,  0.34,  0.35,  0.36,  0.37,  0.38,  0.39,  0.4 ],\n",
       "       [ 0.41,  0.42,  0.43,  0.44,  0.45,  0.46,  0.47,  0.48,  0.49,  0.5 ],\n",
       "       [ 0.51,  0.52,  0.53,  0.54,  0.55,  0.56,  0.57,  0.58,  0.59,  0.6 ],\n",
       "       [ 0.61,  0.62,  0.63,  0.64,  0.65,  0.66,  0.67,  0.68,  0.69,  0.7 ],\n",
       "       [ 0.71,  0.72,  0.73,  0.74,  0.75,  0.76,  0.77,  0.78,  0.79,  0.8 ],\n",
       "       [ 0.81,  0.82,  0.83,  0.84,  0.85,  0.86,  0.87,  0.88,  0.89,  0.9 ],\n",
       "       [ 0.91,  0.92,  0.93,  0.94,  0.95,  0.96,  0.97,  0.98,  0.99,  1.  ]])"
      ]
     },
     "execution_count": 102,
     "metadata": {},
     "output_type": "execute_result"
    }
   ],
   "source": [
    "np.arange(1,101).reshape(10,10) / 100"
   ]
  },
  {
   "cell_type": "code",
   "execution_count": 114,
   "metadata": {},
   "outputs": [
    {
     "data": {
      "text/plain": [
       "array([   0.        ,    5.26315789,   10.52631579,   15.78947368,\n",
       "         21.05263158,   26.31578947,   31.57894737,   36.84210526,\n",
       "         42.10526316,   47.36842105,   52.63157895,   57.89473684,\n",
       "         63.15789474,   68.42105263,   73.68421053,   78.94736842,\n",
       "         84.21052632,   89.47368421,   94.73684211,  100.        ])"
      ]
     },
     "execution_count": 114,
     "metadata": {},
     "output_type": "execute_result"
    }
   ],
   "source": [
    "# use to create an evenly distibuted array of numbers\n",
    "np.linspace(0,100, 20) "
   ]
  },
  {
   "cell_type": "code",
   "execution_count": 83,
   "metadata": {},
   "outputs": [
    {
     "data": {
      "text/plain": [
       "array([1, 2, 3, 4, 5, 6, 7, 8, 9, 8])"
      ]
     },
     "execution_count": 83,
     "metadata": {},
     "output_type": "execute_result"
    }
   ],
   "source": [
    "listy = [1,2,3,4,5,6,7,8,9,8]\n",
    "np.array(listy)"
   ]
  }
 ],
 "metadata": {
  "kernelspec": {
   "display_name": "Python 3",
   "language": "python",
   "name": "python3"
  },
  "language_info": {
   "codemirror_mode": {
    "name": "ipython",
    "version": 3
   },
   "file_extension": ".py",
   "mimetype": "text/x-python",
   "name": "python",
   "nbconvert_exporter": "python",
   "pygments_lexer": "ipython3",
   "version": "3.6.2"
  }
 },
 "nbformat": 4,
 "nbformat_minor": 2
}
