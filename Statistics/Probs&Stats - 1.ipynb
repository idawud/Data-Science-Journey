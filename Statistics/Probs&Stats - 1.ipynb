{
 "cells": [
  {
   "cell_type": "code",
   "execution_count": 17,
   "metadata": {
    "collapsed": true
   },
   "outputs": [],
   "source": [
    "data_points = [66,99,55,1,1,2,2,22,2,2,2,2,32,3,55,25,2,2,5,52,5,25,52,14,52,\n",
    "              5,8,6,56,6,5,5,8,25,8,2,8,6,6,598,5,56,89,52,56,6,265,5,236,\n",
    "               3,263,6,66,66,99,55,1,1,2,2,22,2,2,2,2,32,3,55,25,2,2,5,52,5,25,52,14,52,\n",
    "              5,8,6,56,6,5,5,8,25,8,2,8,6,6,598,5,56,89,52,56,6,265,5,236,\n",
    "               3,263,6,66,9999]"
   ]
  },
  {
   "cell_type": "code",
   "execution_count": 18,
   "metadata": {},
   "outputs": [
    {
     "name": "stdout",
     "output_type": "stream",
     "text": [
      "Maximum point: ->  9999\n",
      "Minimum point: ->  1\n"
     ]
    }
   ],
   "source": [
    "print(\"Maximum point: -> \",max(data_points))\n",
    "print(\"Minimum point: -> \",min(data_points))"
   ]
  },
  {
   "cell_type": "code",
   "execution_count": 16,
   "metadata": {},
   "outputs": [
    {
     "name": "stdout",
     "output_type": "stream",
     "text": [
      "2 \t 18\n",
      "5 \t 14\n",
      "6 \t 12\n",
      "52 \t 8\n",
      "8 \t 8\n",
      "25 \t 6\n",
      "56 \t 6\n",
      "66 \t 4\n",
      "55 \t 4\n",
      "1 \t 4\n",
      "3 \t 4\n",
      "99 \t 2\n",
      "22 \t 2\n",
      "32 \t 2\n",
      "14 \t 2\n",
      "598 \t 2\n",
      "89 \t 2\n",
      "265 \t 2\n",
      "236 \t 2\n",
      "263 \t 2\n",
      "9999 \t 1\n"
     ]
    }
   ],
   "source": [
    "from collections import Counter\n",
    "counts = Counter(data_points)\n",
    "\n",
    "#for freq,count in counts.most_common(5): #prints the most five freq\n",
    " #   print(freq, \"\\t\", count)\n",
    "    \n",
    "for freq,count in counts.most_common():\n",
    "    print(freq, \"\\t\", count)"
   ]
  },
  {
   "cell_type": "code",
   "execution_count": 4,
   "metadata": {},
   "outputs": [
    {
     "data": {
      "text/plain": [
       "139.05607476635515"
      ]
     },
     "execution_count": 4,
     "metadata": {},
     "output_type": "execute_result"
    }
   ],
   "source": [
    "# calculating for mean\n",
    "def mean(values):\n",
    "    \"\"\"\n",
    "        Returns the mean of a set of data points\n",
    "    \"\"\"\n",
    "    return sum(values)/ len(values)\n",
    "\n",
    "mean(data_points)"
   ]
  },
  {
   "cell_type": "code",
   "execution_count": 14,
   "metadata": {},
   "outputs": [
    {
     "data": {
      "text/plain": [
       "8"
      ]
     },
     "execution_count": 14,
     "metadata": {},
     "output_type": "execute_result"
    }
   ],
   "source": [
    "#calculating for median [1,2,3,4]\n",
    "def median(values):\n",
    "    \"\"\"\n",
    "        Returns the median of a set of data points\n",
    "    \"\"\"\n",
    "    data = sorted(values)\n",
    "    centre_point = len(data) // 2\n",
    "    #print(\"Data centre: \", centre_point)\n",
    "    \n",
    "    if len(data) % 2 == 0:\n",
    "        return (data[centre_point] + data[centre_point - 1])/2\n",
    "    else:\n",
    "        return data[centre_point]\n",
    " \n",
    "#dt = [1,2,3,4,5]\n",
    "median(data_points)\n"
   ]
  },
  {
   "cell_type": "code",
   "execution_count": 19,
   "metadata": {},
   "outputs": [
    {
     "data": {
      "text/plain": [
       "[2]"
      ]
     },
     "execution_count": 19,
     "metadata": {},
     "output_type": "execute_result"
    }
   ],
   "source": [
    "#calculating for mode\n",
    "from collections import Counter\n",
    "\n",
    "def mode(values):\n",
    "    \"\"\"\n",
    "        Returns the mode of a set of data points\n",
    "    \"\"\"\n",
    "    max_modes = {}\n",
    "    counts = Counter(values)\n",
    "    max_count = max(counts.values())\n",
    "    \n",
    "    return [value for value,count in counts.items() if count == max_count]\n",
    "#test\n",
    "#mode([1,2,3,3,4,4])\n",
    "mode(data_points)"
   ]
  },
  {
   "cell_type": "code",
   "execution_count": 7,
   "metadata": {},
   "outputs": [
    {
     "name": "stdout",
     "output_type": "stream",
     "text": [
      "Median: ->  8.0\n",
      "Mean: ->  8.0\n",
      "Mode: ->  [1, 2, 3, 4, 5, 11, 12, 13, 14, 15]\n"
     ]
    },
    {
     "ename": "NameError",
     "evalue": "name 'three_range' is not defined",
     "output_type": "error",
     "traceback": [
      "\u001b[1;31m---------------------------------------------------------------------------\u001b[0m",
      "\u001b[1;31mNameError\u001b[0m                                 Traceback (most recent call last)",
      "\u001b[1;32m<ipython-input-7-0e0259c53e65>\u001b[0m in \u001b[0;36m<module>\u001b[1;34m()\u001b[0m\n\u001b[0;32m      3\u001b[0m \u001b[0mprint\u001b[0m\u001b[1;33m(\u001b[0m\u001b[1;34m\"Mean: -> \"\u001b[0m\u001b[1;33m,\u001b[0m \u001b[0mmean\u001b[0m\u001b[1;33m(\u001b[0m\u001b[0mtuts_values\u001b[0m\u001b[1;33m)\u001b[0m\u001b[1;33m)\u001b[0m\u001b[1;33m\u001b[0m\u001b[0m\n\u001b[0;32m      4\u001b[0m \u001b[0mprint\u001b[0m\u001b[1;33m(\u001b[0m\u001b[1;34m\"Mode: -> \"\u001b[0m\u001b[1;33m,\u001b[0m \u001b[0mmode\u001b[0m\u001b[1;33m(\u001b[0m\u001b[0mtuts_values\u001b[0m\u001b[1;33m)\u001b[0m\u001b[1;33m)\u001b[0m\u001b[1;33m\u001b[0m\u001b[0m\n\u001b[1;32m----> 5\u001b[1;33m \u001b[0mprint\u001b[0m\u001b[1;33m(\u001b[0m\u001b[1;34m\"Maximum: - > \"\u001b[0m\u001b[1;33m,\u001b[0m \u001b[0mmax\u001b[0m\u001b[1;33m(\u001b[0m\u001b[0mthree_range\u001b[0m\u001b[1;33m)\u001b[0m\u001b[1;33m)\u001b[0m\u001b[1;33m\u001b[0m\u001b[0m\n\u001b[0m\u001b[0;32m      6\u001b[0m \u001b[0mprint\u001b[0m\u001b[1;33m(\u001b[0m\u001b[1;34m\"Minimum: -> \"\u001b[0m\u001b[1;33m,\u001b[0m \u001b[0mmin\u001b[0m\u001b[1;33m(\u001b[0m\u001b[0mthree_range\u001b[0m\u001b[1;33m)\u001b[0m\u001b[1;33m)\u001b[0m\u001b[1;33m\u001b[0m\u001b[0m\n",
      "\u001b[1;31mNameError\u001b[0m: name 'three_range' is not defined"
     ]
    }
   ],
   "source": [
    "tuts_values = [1,2,3,4,5,11,12,13,14,15]\n",
    "print(\"Median: -> \",median(tuts_values))\n",
    "print(\"Mean: -> \", mean(tuts_values))\n",
    "print(\"Mode: -> \", mode(tuts_values))\n",
    "print(\"Maximum: - > \", max(three_range))\n",
    "print(\"Minimum: -> \", min(three_range))"
   ]
  },
  {
   "cell_type": "code",
   "execution_count": null,
   "metadata": {
    "collapsed": true
   },
   "outputs": [],
   "source": [
    "from collections import Counter\n",
    "three_range = list(range(100,1000,3)) # list of number between 100 inclusive and 1000 exclusive with 3 steps\n",
    "\n",
    "print(\"Median: -> \",median(three_range))\n",
    "print(\"Mean: -> \", mean(three_range))\n",
    "print(\"Mode: -> \", mode(three_range))\n",
    "print(\"Maximum: - > \", max(three_range))\n",
    "print(\"Minimum: -> \", min(three_range))\n",
    "counts = Counter(three_range)\n",
    "print(\"#Num\",\"\\t\",\"Frequency\")\n",
    "for freq,count in counts.most_common():\n",
    "    print(freq, \"\\t\", count)"
   ]
  },
  {
   "cell_type": "code",
   "execution_count": 20,
   "metadata": {},
   "outputs": [
    {
     "data": {
      "text/plain": [
       "14"
      ]
     },
     "execution_count": 20,
     "metadata": {},
     "output_type": "execute_result"
    }
   ],
   "source": [
    "#simple spread\n",
    "def simple_spread(x):\n",
    "    return max(x) - min(x)\n",
    "simple_spread(tuts_values)"
   ]
  },
  {
   "cell_type": "code",
   "execution_count": 21,
   "metadata": {},
   "outputs": [
    {
     "data": {
      "text/plain": [
       "11"
      ]
     },
     "execution_count": 21,
     "metadata": {},
     "output_type": "execute_result"
    }
   ],
   "source": [
    "#quantile hardwired\n",
    "def quantiles(x, percentiles):\n",
    "    index = int( percentiles * len(x))\n",
    "    return sorted(x)[index]\n",
    "quantiles(tuts_values, 0.5)"
   ]
  },
  {
   "cell_type": "code",
   "execution_count": 22,
   "metadata": {},
   "outputs": [
    {
     "name": "stdout",
     "output_type": "stream",
     "text": [
      "Percent: 0.1 \t 2\n",
      "Percent: 0.25 \t 3\n",
      "Percent: 0.5 \t 11\n",
      "Percent: 0.75 \t 13\n",
      "Percent: 0.9 \t 15\n",
      "Percent: 0.99 \t 15\n"
     ]
    }
   ],
   "source": [
    "for percent in [0.10, 0.25, 0.5, 0.75, 0.9, 0.99]:\n",
    "    q = quantiles(tuts_values, percent)\n",
    "    print('Percent: {} \\t {}'.format(percent, q))"
   ]
  },
  {
   "cell_type": "code",
   "execution_count": 23,
   "metadata": {},
   "outputs": [
    {
     "name": "stdout",
     "output_type": "stream",
     "text": [
      "10\n",
      "13\n"
     ]
    }
   ],
   "source": [
    "def interquatiles(x, upper_bound = 0.75, lower_bound = 0.25):\n",
    "    return quantiles(x, upper_bound) - quantiles(x, lower_bound)\n",
    "\n",
    "print(interquatiles(tuts_values))\n",
    "print(interquatiles(tuts_values, .9, .10))"
   ]
  },
  {
   "cell_type": "code",
   "execution_count": 24,
   "metadata": {},
   "outputs": [
    {
     "name": "stdout",
     "output_type": "stream",
     "text": [
      "Simple Spread:  95\n",
      "Quatile 0.15:  215\n",
      "Quatile 0.85:  285\n",
      "Interquatile range for 0.25 and 0.75:  75\n"
     ]
    }
   ],
   "source": [
    "nums = range(200,300,5)\n",
    "print(\"Simple Spread: \", simple_spread(nums))\n",
    "print(\"Quatile 0.15: \", quantiles(nums, .15))\n",
    "print(\"Quatile 0.85: \",  quantiles(nums, .85))\n",
    "print(\"Interquatile range for 0.25 and 0.75: \", interquatiles(nums, 0.75, 0))"
   ]
  },
  {
   "cell_type": "code",
   "execution_count": 12,
   "metadata": {},
   "outputs": [
    {
     "name": "stdout",
     "output_type": "stream",
     "text": [
      "dick:  {'a': 10, 'b': 20, 'c': 30}\n",
      "zz:  [('a', 10), ('b', 20), ('c', 30)]\n",
      "ll:  (('a', 10), ('b', 20), ('c', 30))\n",
      "20\n",
      "a  ->  10\n",
      "b  ->  20\n",
      "c  ->  30\n"
     ]
    },
    {
     "data": {
      "text/plain": [
       "[None, None, None]"
      ]
     },
     "execution_count": 12,
     "metadata": {},
     "output_type": "execute_result"
    }
   ],
   "source": [
    "labels = ['a','b','c']\n",
    "date = [10,20,30]\n",
    "zz = list(zip(labels,date))\n",
    "ll = tuple(zip(labels,date))\n",
    "dick = dict(zip(labels,date)) \n",
    "print(\"dick: \",dick)\n",
    "print(\"zz: \",zz)\n",
    "print(\"ll: \",ll) \n",
    "print(dick['b'])\n",
    "[print(a,\" -> \",b) for a,b in ll ]"
   ]
  }
 ],
 "metadata": {
  "kernelspec": {
   "display_name": "Python 3",
   "language": "python",
   "name": "python3"
  },
  "language_info": {
   "codemirror_mode": {
    "name": "ipython",
    "version": 3
   },
   "file_extension": ".py",
   "mimetype": "text/x-python",
   "name": "python",
   "nbconvert_exporter": "python",
   "pygments_lexer": "ipython3",
   "version": "3.6.2"
  }
 },
 "nbformat": 4,
 "nbformat_minor": 2
}
