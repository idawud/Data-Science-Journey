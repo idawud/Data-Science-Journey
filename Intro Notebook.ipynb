{
 "cells": [
  {
   "cell_type": "code",
   "execution_count": 3,
   "metadata": {},
   "outputs": [
    {
     "name": "stdout",
     "output_type": "stream",
     "text": [
      "intro notebook\n"
     ]
    }
   ],
   "source": [
    "print(\"intro notebook\")"
   ]
  },
  {
   "cell_type": "code",
   "execution_count": 15,
   "metadata": {},
   "outputs": [
    {
     "data": {
      "text/plain": [
       "31622400"
      ]
     },
     "execution_count": 15,
     "metadata": {},
     "output_type": "execute_result"
    }
   ],
   "source": [
    "366 * 24 * 60 * 60"
   ]
  },
  {
   "cell_type": "code",
   "execution_count": 16,
   "metadata": {},
   "outputs": [
    {
     "data": {
      "text/plain": [
       "31.6224"
      ]
     },
     "execution_count": 16,
     "metadata": {},
     "output_type": "execute_result"
    }
   ],
   "source": [
    "_/1e6"
   ]
  },
  {
   "cell_type": "code",
   "execution_count": 17,
   "metadata": {},
   "outputs": [
    {
     "data": {
      "text/plain": [
       "31536000"
      ]
     },
     "execution_count": 17,
     "metadata": {},
     "output_type": "execute_result"
    }
   ],
   "source": [
    "365 * 24 * 60 * 60"
   ]
  },
  {
   "cell_type": "code",
   "execution_count": 18,
   "metadata": {},
   "outputs": [
    {
     "data": {
      "text/plain": [
       "31.536"
      ]
     },
     "execution_count": 18,
     "metadata": {},
     "output_type": "execute_result"
    }
   ],
   "source": [
    "_/1e6"
   ]
  },
  {
   "cell_type": "code",
   "execution_count": 21,
   "metadata": {},
   "outputs": [
    {
     "name": "stdout",
     "output_type": "stream",
     "text": [
      "9\n"
     ]
    }
   ],
   "source": [
    "x = 4 + 5\n",
    "print(x)"
   ]
  },
  {
   "cell_type": "markdown",
   "metadata": {},
   "source": [
    "# SOME TEXT GOES HERE"
   ]
  },
  {
   "cell_type": "code",
   "execution_count": 33,
   "metadata": {},
   "outputs": [],
   "source": [
    "import math\n",
    "a = 5.675340 - 5.561290\n",
    "b = -0.181850 - 0.204770\n",
    "distance = math.sqrt(a **2 + b**2) * 100"
   ]
  },
  {
   "cell_type": "code",
   "execution_count": 34,
   "metadata": {},
   "outputs": [
    {
     "name": "stdout",
     "output_type": "stream",
     "text": [
      "40.31 Km\n"
     ]
    }
   ],
   "source": [
    "print(round(distance,2), 'Km')"
   ]
  },
  {
   "cell_type": "code",
   "execution_count": null,
   "metadata": {},
   "outputs": [],
   "source": []
  },
  {
   "cell_type": "code",
   "execution_count": 35,
   "metadata": {},
   "outputs": [
    {
     "name": "stdout",
     "output_type": "stream",
     "text": [
      "0.4 Km\n"
     ]
    }
   ],
   "source": [
    "import math\n",
    "a = 5.675340 - 5.561290\n",
    "b = -0.181850 - 0.204770\n",
    "distance = math.sqrt(a **2 + b**2) \n",
    "print(round(distance,2), 'Km')"
   ]
  },
  {
   "cell_type": "code",
   "execution_count": 47,
   "metadata": {},
   "outputs": [],
   "source": [
    "some = {\n",
    "        ('Blackburn',1995):1,\n",
    "        ('Chelsea',2005):10,\n",
    "        ('Man United',1999):3,\n",
    "        ('Liverpool',2000):5,\n",
    "        ('Man City',2016):3, \n",
    "       }"
   ]
  },
  {
   "cell_type": "code",
   "execution_count": 55,
   "metadata": {},
   "outputs": [
    {
     "name": "stdout",
     "output_type": "stream",
     "text": [
      "Blackburn <--> 1995 <==> 1\n",
      "Chelsea <--> 2005 <==> 10\n",
      "Man United <--> 1999 <==> 3\n",
      "Liverpool <--> 2000 <==> 5\n",
      "Man City <--> 2016 <==> 3\n"
     ]
    }
   ],
   "source": [
    "val=0\n",
    "for key,value in some.items():\n",
    "    print(key[0],'<-->',key[1], \"<==>\",value)\n",
    "    val += key[1]"
   ]
  },
  {
   "cell_type": "code",
   "execution_count": 43,
   "metadata": {},
   "outputs": [
    {
     "name": "stdout",
     "output_type": "stream",
     "text": [
      "1\n",
      "10\n",
      "3\n",
      "5\n",
      "3\n"
     ]
    }
   ],
   "source": [
    "for value in some.values():\n",
    "    print(value)"
   ]
  },
  {
   "cell_type": "code",
   "execution_count": 56,
   "metadata": {},
   "outputs": [
    {
     "data": {
      "text/plain": [
       "10015"
      ]
     },
     "execution_count": 56,
     "metadata": {},
     "output_type": "execute_result"
    }
   ],
   "source": [
    "val"
   ]
  },
  {
   "cell_type": "code",
   "execution_count": 58,
   "metadata": {},
   "outputs": [
    {
     "data": {
      "text/plain": [
       "2003.0"
      ]
     },
     "execution_count": 58,
     "metadata": {},
     "output_type": "execute_result"
    }
   ],
   "source": [
    "_/5"
   ]
  },
  {
   "cell_type": "code",
   "execution_count": 59,
   "metadata": {},
   "outputs": [],
   "source": [
    "from collections import OrderedDict, Counter"
   ]
  },
  {
   "cell_type": "code",
   "execution_count": 62,
   "metadata": {},
   "outputs": [],
   "source": [
    "enhance = OrderedDict(sorted(some))"
   ]
  },
  {
   "cell_type": "code",
   "execution_count": 63,
   "metadata": {},
   "outputs": [
    {
     "data": {
      "text/plain": [
       "OrderedDict([('Blackburn', 1995),\n",
       "             ('Chelsea', 2005),\n",
       "             ('Liverpool', 2000),\n",
       "             ('Man City', 2016),\n",
       "             ('Man United', 1999)])"
      ]
     },
     "execution_count": 63,
     "metadata": {},
     "output_type": "execute_result"
    }
   ],
   "source": [
    "enhance"
   ]
  },
  {
   "cell_type": "code",
   "execution_count": 66,
   "metadata": {},
   "outputs": [],
   "source": [
    "y = Counter()"
   ]
  },
  {
   "cell_type": "code",
   "execution_count": 67,
   "metadata": {},
   "outputs": [
    {
     "data": {
      "text/plain": [
       "Counter({'H': 1,\n",
       "         'e': 1,\n",
       "         'l': 2,\n",
       "         'o': 1,\n",
       "         ' ': 2,\n",
       "         'd': 1,\n",
       "         'a': 1,\n",
       "         'y': 2,\n",
       "         'm': 6,\n",
       "         'u': 1,\n",
       "         '!': 1})"
      ]
     },
     "execution_count": 67,
     "metadata": {},
     "output_type": "execute_result"
    }
   ],
   "source": [
    "y"
   ]
  },
  {
   "cell_type": "code",
   "execution_count": 73,
   "metadata": {},
   "outputs": [
    {
     "name": "stdout",
     "output_type": "stream",
     "text": [
      "34f69351-e61c-494d-aea3-8d34ec5806c2\n"
     ]
    }
   ],
   "source": [
    "import uuid\n",
    "print(uuid.uuid4())"
   ]
  },
  {
   "cell_type": "code",
   "execution_count": 81,
   "metadata": {},
   "outputs": [],
   "source": []
  },
  {
   "cell_type": "code",
   "execution_count": 82,
   "metadata": {},
   "outputs": [
    {
     "data": {
      "text/plain": [
       "True"
      ]
     },
     "execution_count": 82,
     "metadata": {},
     "output_type": "execute_result"
    }
   ],
   "source": [
    "f = lambda x : x.startswith('a')\n",
    "f('arat')"
   ]
  },
  {
   "cell_type": "code",
   "execution_count": 85,
   "metadata": {},
   "outputs": [],
   "source": [
    "from random import randint"
   ]
  },
  {
   "cell_type": "code",
   "execution_count": 104,
   "metadata": {},
   "outputs": [],
   "source": [
    "x = [randint(0,50) for x in range(0,50)] "
   ]
  },
  {
   "cell_type": "code",
   "execution_count": 95,
   "metadata": {},
   "outputs": [],
   "source": [
    "y = [Counter(str(value)) for value in x]"
   ]
  },
  {
   "cell_type": "code",
   "execution_count": 96,
   "metadata": {},
   "outputs": [
    {
     "data": {
      "text/plain": [
       "[Counter({'1': 1, '0': 1}),\n",
       " Counter({'3': 1, '6': 1}),\n",
       " Counter({'3': 1, '1': 1}),\n",
       " Counter({'1': 1, '9': 1}),\n",
       " Counter({'4': 1, '5': 1}),\n",
       " Counter({'1': 1, '0': 1}),\n",
       " Counter({'2': 1, '3': 1}),\n",
       " Counter({'1': 1, '8': 1}),\n",
       " Counter({'8': 1}),\n",
       " Counter({'1': 1, '0': 1}),\n",
       " Counter({'5': 1}),\n",
       " Counter({'2': 2}),\n",
       " Counter({'2': 1, '8': 1}),\n",
       " Counter({'1': 1, '5': 1}),\n",
       " Counter({'2': 1, '7': 1}),\n",
       " Counter({'2': 1, '8': 1}),\n",
       " Counter({'4': 1, '9': 1}),\n",
       " Counter({'8': 1}),\n",
       " Counter({'3': 1, '4': 1}),\n",
       " Counter({'1': 1, '7': 1}),\n",
       " Counter({'4': 1, '7': 1}),\n",
       " Counter({'3': 1, '2': 1}),\n",
       " Counter({'3': 1, '5': 1}),\n",
       " Counter({'3': 1, '5': 1}),\n",
       " Counter({'3': 1, '8': 1}),\n",
       " Counter({'1': 1, '2': 1}),\n",
       " Counter({'1': 1, '5': 1}),\n",
       " Counter({'1': 1, '6': 1}),\n",
       " Counter({'2': 1}),\n",
       " Counter({'2': 1}),\n",
       " Counter({'2': 1, '4': 1}),\n",
       " Counter({'2': 1, '7': 1}),\n",
       " Counter({'3': 1}),\n",
       " Counter({'2': 1, '3': 1}),\n",
       " Counter({'3': 1, '7': 1}),\n",
       " Counter({'2': 1, '7': 1}),\n",
       " Counter({'2': 2}),\n",
       " Counter({'4': 1, '2': 1}),\n",
       " Counter({'3': 1, '5': 1}),\n",
       " Counter({'3': 1, '8': 1}),\n",
       " Counter({'0': 1}),\n",
       " Counter({'1': 1, '0': 1}),\n",
       " Counter({'2': 1, '1': 1}),\n",
       " Counter({'1': 1, '5': 1}),\n",
       " Counter({'1': 1, '6': 1}),\n",
       " Counter({'3': 1, '9': 1}),\n",
       " Counter({'2': 1, '4': 1}),\n",
       " Counter({'1': 1, '8': 1}),\n",
       " Counter({'2': 2}),\n",
       " Counter({'3': 1, '2': 1})]"
      ]
     },
     "execution_count": 96,
     "metadata": {},
     "output_type": "execute_result"
    }
   ],
   "source": [
    "y"
   ]
  },
  {
   "cell_type": "code",
   "execution_count": 105,
   "metadata": {},
   "outputs": [
    {
     "name": "stderr",
     "output_type": "stream",
     "text": [
      "'ls' is not recognized as an internal or external command,\n",
      "operable program or batch file.\n"
     ]
    }
   ],
   "source": [
    "!ls"
   ]
  },
  {
   "cell_type": "code",
   "execution_count": 106,
   "metadata": {},
   "outputs": [
    {
     "name": "stdout",
     "output_type": "stream",
     "text": [
      " Volume in drive C has no label.\n",
      " Volume Serial Number is FCBB-3B58\n",
      "\n",
      " Directory of C:\\Users\\DAWUD\\Documents\n",
      "\n",
      "10/07/2018  04:18 PM    <DIR>          .\n",
      "10/07/2018  04:18 PM    <DIR>          ..\n",
      "10/06/2018  06:03 PM    <DIR>          .ipynb_checkpoints\n",
      "10/06/2018  09:58 PM                27 .Rhistory\n",
      "06/21/2018  05:36 PM    <DIR>          Adobe\n",
      "08/01/2018  04:24 AM    <DIR>          C++ Projects\n",
      "06/21/2018  05:35 PM    <DIR>          Custom Office Templates\n",
      "08/29/2018  02:56 AM            24,856 Dare To DEFY.docx\n",
      "08/12/2018  08:26 PM    <DIR>          Django\n",
      "06/21/2018  10:03 PM            75,229 Example.png\n",
      "06/21/2018  10:22 PM         2,435,746 Example1.png\n",
      "06/25/2018  12:40 AM    <DIR>          Flask\n",
      "10/06/2018  06:07 PM    <DIR>          GitHub\n",
      "09/03/2018  01:19 AM           346,043 health-facilities-gh.csv\n",
      "10/07/2018  04:18 PM            10,221 Intro Notebook.ipynb\n",
      "06/19/2018  07:31 PM    <DIR>          JavaScripCode\n",
      "08/02/2018  05:02 AM    <DIR>          myapp\n",
      "09/30/2018  02:13 PM    <DIR>          NetBeansProjects\n",
      "08/24/2018  04:47 AM    <DIR>          Processing\n",
      "06/24/2018  08:27 AM            27,485 python_mini_projects.docx\n",
      "10/01/2018  12:29 PM    <DIR>          R\n",
      "06/28/2018  07:18 PM           176,249 resume_Dawud_template.docx\n",
      "09/06/2018  04:54 AM    <DIR>          Sound recordings\n",
      "08/01/2018  10:10 PM                62 test.py\n",
      "10/07/2018  03:50 PM           173,901 The Pandas Notebook.ipynb\n",
      "10/07/2018  12:52 PM             1,388 The Pandas Notebook.py\n",
      "06/22/2018  07:28 PM           463,620 untitled.blend\n",
      "06/14/2018  09:32 PM    <DIR>          Virtual Machines\n",
      "05/07/2018  08:26 AM    <DIR>          Visual Studio 2013\n",
      "04/21/2018  12:54 AM    <DIR>          Visual Studio 2017\n",
      "08/25/2018  11:53 PM           182,135 YN.docx\n",
      "              13 File(s)      3,916,962 bytes\n",
      "              18 Dir(s)  171,609,034,752 bytes free\n"
     ]
    }
   ],
   "source": [
    "!dir"
   ]
  },
  {
   "cell_type": "code",
   "execution_count": 110,
   "metadata": {},
   "outputs": [
    {
     "name": "stderr",
     "output_type": "stream",
     "text": [
      "'read' is not recognized as an internal or external command,\n",
      "operable program or batch file.\n"
     ]
    }
   ],
   "source": [
    "!read \"The Pandas Notebook.py\""
   ]
  },
  {
   "cell_type": "code",
   "execution_count": null,
   "metadata": {},
   "outputs": [],
   "source": [
    "!read"
   ]
  }
 ],
 "metadata": {
  "kernelspec": {
   "display_name": "Python 3",
   "language": "python",
   "name": "python3"
  },
  "language_info": {
   "codemirror_mode": {
    "name": "ipython",
    "version": 3
   },
   "file_extension": ".py",
   "mimetype": "text/x-python",
   "name": "python",
   "nbconvert_exporter": "python",
   "pygments_lexer": "ipython3",
   "version": "3.7.0"
  }
 },
 "nbformat": 4,
 "nbformat_minor": 2
}
